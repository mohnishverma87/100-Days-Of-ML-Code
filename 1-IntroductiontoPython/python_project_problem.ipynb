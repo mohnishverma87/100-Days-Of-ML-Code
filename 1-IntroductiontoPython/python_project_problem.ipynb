{
  "nbformat": 4,
  "nbformat_minor": 0,
  "metadata": {
    "colab": {
      "name": "python-project-problem.ipynb",
      "provenance": [],
      "authorship_tag": "ABX9TyPc2TjtK8g3gSRGQdIgItO4",
      "include_colab_link": true
    },
    "kernelspec": {
      "name": "python3",
      "display_name": "Python 3"
    }
  },
  "cells": [
    {
      "cell_type": "markdown",
      "metadata": {
        "id": "view-in-github",
        "colab_type": "text"
      },
      "source": [
        "<a href=\"https://colab.research.google.com/github/mohnishverma87/100-Days-Of-ML-Code/blob/master/1-IntroductiontoPython/python_project_problem.ipynb\" target=\"_parent\"><img src=\"https://colab.research.google.com/assets/colab-badge.svg\" alt=\"Open In Colab\"/></a>"
      ]
    },
    {
      "cell_type": "code",
      "metadata": {
        "id": "mqbUa7f6iVkC",
        "colab_type": "code",
        "colab": {}
      },
      "source": [
        "import pandas as pd\n",
        "import seaborn as sns   # Why sns?  It's a reference to The West Wing\n",
        "import matplotlib.pyplot as plt  # seaborn is based on matplotlib\n",
        "sns.set(color_codes=True) # adds a nice background to the graphs\n",
        "%matplotlib inline \n",
        "# tells python to actually display the graphs"
      ],
      "execution_count": 0,
      "outputs": []
    },
    {
      "cell_type": "code",
      "metadata": {
        "id": "a4DENiZ6A3os",
        "colab_type": "code",
        "colab": {}
      },
      "source": [
        "# rm -rf PGPAIML"
      ],
      "execution_count": 0,
      "outputs": []
    },
    {
      "cell_type": "code",
      "metadata": {
        "id": "FPzNnCw_ixF8",
        "colab_type": "code",
        "outputId": "a2aca9d7-5ee6-45d6-9f2d-67d9a5ba4fa5",
        "colab": {
          "base_uri": "https://localhost:8080/",
          "height": 134
        }
      },
      "source": [
        "GIT_USERNAME = \"mohnishverma87\" # replace with yours\n",
        "GIT_TOKEN = \"084443734184028f1c23316a94661667ac54b7e1\"           # definitely replace with yours\n",
        "GIT_REPOSITORY = \"PGPAIML\"      # ...nah\n",
        "! git clone https://{GIT_TOKEN}@github.com/{GIT_USERNAME}/{GIT_REPOSITORY}.git"
      ],
      "execution_count": 6,
      "outputs": [
        {
          "output_type": "stream",
          "text": [
            "Cloning into 'PGPAIML'...\n",
            "remote: Enumerating objects: 103, done.\u001b[K\n",
            "remote: Counting objects:   0% (1/103)\u001b[K\rremote: Counting objects:   1% (2/103)\u001b[K\rremote: Counting objects:   2% (3/103)\u001b[K\rremote: Counting objects:   3% (4/103)\u001b[K\rremote: Counting objects:   4% (5/103)\u001b[K\rremote: Counting objects:   5% (6/103)\u001b[K\rremote: Counting objects:   6% (7/103)\u001b[K\rremote: Counting objects:   7% (8/103)\u001b[K\rremote: Counting objects:   8% (9/103)\u001b[K\rremote: Counting objects:   9% (10/103)\u001b[K\rremote: Counting objects:  10% (11/103)\u001b[K\rremote: Counting objects:  11% (12/103)\u001b[K\rremote: Counting objects:  12% (13/103)\u001b[K\rremote: Counting objects:  13% (14/103)\u001b[K\rremote: Counting objects:  14% (15/103)\u001b[K\rremote: Counting objects:  15% (16/103)\u001b[K\rremote: Counting objects:  16% (17/103)\u001b[K\rremote: Counting objects:  17% (18/103)\u001b[K\rremote: Counting objects:  18% (19/103)\u001b[K\rremote: Counting objects:  19% (20/103)\u001b[K\rremote: Counting objects:  20% (21/103)\u001b[K\rremote: Counting objects:  21% (22/103)\u001b[K\rremote: Counting objects:  22% (23/103)\u001b[K\rremote: Counting objects:  23% (24/103)\u001b[K\rremote: Counting objects:  24% (25/103)\u001b[K\rremote: Counting objects:  25% (26/103)\u001b[K\rremote: Counting objects:  26% (27/103)\u001b[K\rremote: Counting objects:  27% (28/103)\u001b[K\rremote: Counting objects:  28% (29/103)\u001b[K\rremote: Counting objects:  29% (30/103)\u001b[K\rremote: Counting objects:  30% (31/103)\u001b[K\rremote: Counting objects:  31% (32/103)\u001b[K\rremote: Counting objects:  32% (33/103)\u001b[K\rremote: Counting objects:  33% (34/103)\u001b[K\rremote: Counting objects:  34% (36/103)\u001b[K\rremote: Counting objects:  35% (37/103)\u001b[K\rremote: Counting objects:  36% (38/103)\u001b[K\rremote: Counting objects:  37% (39/103)\u001b[K\rremote: Counting objects:  38% (40/103)\u001b[K\rremote: Counting objects:  39% (41/103)\u001b[K\rremote: Counting objects:  40% (42/103)\u001b[K\rremote: Counting objects:  41% (43/103)\u001b[K\rremote: Counting objects:  42% (44/103)\u001b[K\rremote: Counting objects:  43% (45/103)\u001b[K\rremote: Counting objects:  44% (46/103)\u001b[K\rremote: Counting objects:  45% (47/103)\u001b[K\rremote: Counting objects:  46% (48/103)\u001b[K\rremote: Counting objects:  47% (49/103)\u001b[K\rremote: Counting objects:  48% (50/103)\u001b[K\rremote: Counting objects:  49% (51/103)\u001b[K\rremote: Counting objects:  50% (52/103)\u001b[K\rremote: Counting objects:  51% (53/103)\u001b[K\rremote: Counting objects:  52% (54/103)\u001b[K\rremote: Counting objects:  53% (55/103)\u001b[K\rremote: Counting objects:  54% (56/103)\u001b[K\rremote: Counting objects:  55% (57/103)\u001b[K\rremote: Counting objects:  56% (58/103)\u001b[K\rremote: Counting objects:  57% (59/103)\u001b[K\rremote: Counting objects:  58% (60/103)\u001b[K\rremote: Counting objects:  59% (61/103)\u001b[K\rremote: Counting objects:  60% (62/103)\u001b[K\rremote: Counting objects:  61% (63/103)\u001b[K\rremote: Counting objects:  62% (64/103)\u001b[K\rremote: Counting objects:  63% (65/103)\u001b[K\rremote: Counting objects:  64% (66/103)\u001b[K\rremote: Counting objects:  65% (67/103)\u001b[K\rremote: Counting objects:  66% (68/103)\u001b[K\rremote: Counting objects:  67% (70/103)\u001b[K\rremote: Counting objects:  68% (71/103)\u001b[K\rremote: Counting objects:  69% (72/103)\u001b[K\rremote: Counting objects:  70% (73/103)\u001b[K\rremote: Counting objects:  71% (74/103)\u001b[K\rremote: Counting objects:  72% (75/103)\u001b[K\rremote: Counting objects:  73% (76/103)\u001b[K\rremote: Counting objects:  74% (77/103)\u001b[K\rremote: Counting objects:  75% (78/103)\u001b[K\rremote: Counting objects:  76% (79/103)\u001b[K\rremote: Counting objects:  77% (80/103)\u001b[K\rremote: Counting objects:  78% (81/103)\u001b[K\rremote: Counting objects:  79% (82/103)\u001b[K\rremote: Counting objects:  80% (83/103)\u001b[K\rremote: Counting objects:  81% (84/103)\u001b[K\rremote: Counting objects:  82% (85/103)\u001b[K\rremote: Counting objects:  83% (86/103)\u001b[K\rremote: Counting objects:  84% (87/103)\u001b[K\rremote: Counting objects:  85% (88/103)\u001b[K\rremote: Counting objects:  86% (89/103)\u001b[K\rremote: Counting objects:  87% (90/103)\u001b[K\rremote: Counting objects:  88% (91/103)\u001b[K\rremote: Counting objects:  89% (92/103)\u001b[K\rremote: Counting objects:  90% (93/103)\u001b[K\rremote: Counting objects:  91% (94/103)\u001b[K\rremote: Counting objects:  92% (95/103)\u001b[K\rremote: Counting objects:  93% (96/103)\u001b[K\rremote: Counting objects:  94% (97/103)\u001b[K\rremote: Counting objects:  95% (98/103)\u001b[K\rremote: Counting objects:  96% (99/103)\u001b[K\rremote: Counting objects:  97% (100/103)\u001b[K\rremote: Counting objects:  98% (101/103)\u001b[K\rremote: Counting objects:  99% (102/103)\u001b[K\rremote: Counting objects: 100% (103/103)\u001b[K\rremote: Counting objects: 100% (103/103), done.\u001b[K\n",
            "remote: Compressing objects: 100% (101/101), done.\u001b[K\n",
            "remote: Total 103 (delta 51), reused 0 (delta 0), pack-reused 0\u001b[K\n",
            "Receiving objects: 100% (103/103), 1.64 MiB | 5.82 MiB/s, done.\n",
            "Resolving deltas: 100% (51/51), done.\n"
          ],
          "name": "stdout"
        }
      ]
    },
    {
      "cell_type": "code",
      "metadata": {
        "id": "hMckX0Rsi1xn",
        "colab_type": "code",
        "colab": {}
      },
      "source": [
        "# !cd /content/PGPAIML/1-IntroductiontoPython/python-project-problem"
      ],
      "execution_count": 0,
      "outputs": []
    },
    {
      "cell_type": "code",
      "metadata": {
        "id": "lPEjIxVt-rsI",
        "colab_type": "code",
        "outputId": "f830c9f1-5032-443b-e1c2-be7c00dfe726",
        "colab": {
          "base_uri": "https://localhost:8080/",
          "height": 34
        }
      },
      "source": [
        "cd python-project-problem/"
      ],
      "execution_count": 21,
      "outputs": [
        {
          "output_type": "stream",
          "text": [
            "/content/PGPAIML/1-IntroductiontoPython/python-project-problem\n"
          ],
          "name": "stdout"
        }
      ]
    },
    {
      "cell_type": "code",
      "metadata": {
        "id": "5MJyPXZ8BcWW",
        "colab_type": "code",
        "colab": {
          "base_uri": "https://localhost:8080/",
          "height": 84
        },
        "outputId": "a3306f1d-393b-4ec5-f24e-d312a43c7bb5"
      },
      "source": [
        "ls -lrth"
      ],
      "execution_count": 24,
      "outputs": [
        {
          "output_type": "stream",
          "text": [
            "total 2.2M\n",
            "-rw-r--r-- 1 root root 1.9M May 10 19:15 u.data\n",
            "-rw-r--r-- 1 root root 231K May 10 19:15 u.item\n",
            "-rw-r--r-- 1 root root  23K May 10 19:15 u.user\n"
          ],
          "name": "stdout"
        }
      ]
    },
    {
      "cell_type": "code",
      "metadata": {
        "id": "Axa6_7grCxpH",
        "colab_type": "code",
        "colab": {
          "base_uri": "https://localhost:8080/",
          "height": 195
        },
        "outputId": "28d1333f-59b4-4ace-e1c2-9d52aa770b83"
      },
      "source": [
        "rating_columns = ['user id','item id', 'rating', 'timestamp']\n",
        "rating = pd.read_table('u.data',header = None)\n",
        "rating.columns = rating_columns\n",
        "rating.head()"
      ],
      "execution_count": 34,
      "outputs": [
        {
          "output_type": "execute_result",
          "data": {
            "text/html": [
              "<div>\n",
              "<style scoped>\n",
              "    .dataframe tbody tr th:only-of-type {\n",
              "        vertical-align: middle;\n",
              "    }\n",
              "\n",
              "    .dataframe tbody tr th {\n",
              "        vertical-align: top;\n",
              "    }\n",
              "\n",
              "    .dataframe thead th {\n",
              "        text-align: right;\n",
              "    }\n",
              "</style>\n",
              "<table border=\"1\" class=\"dataframe\">\n",
              "  <thead>\n",
              "    <tr style=\"text-align: right;\">\n",
              "      <th></th>\n",
              "      <th>user id</th>\n",
              "      <th>item id</th>\n",
              "      <th>rating</th>\n",
              "      <th>timestamp</th>\n",
              "    </tr>\n",
              "  </thead>\n",
              "  <tbody>\n",
              "    <tr>\n",
              "      <th>0</th>\n",
              "      <td>196</td>\n",
              "      <td>242</td>\n",
              "      <td>3</td>\n",
              "      <td>881250949</td>\n",
              "    </tr>\n",
              "    <tr>\n",
              "      <th>1</th>\n",
              "      <td>186</td>\n",
              "      <td>302</td>\n",
              "      <td>3</td>\n",
              "      <td>891717742</td>\n",
              "    </tr>\n",
              "    <tr>\n",
              "      <th>2</th>\n",
              "      <td>22</td>\n",
              "      <td>377</td>\n",
              "      <td>1</td>\n",
              "      <td>878887116</td>\n",
              "    </tr>\n",
              "    <tr>\n",
              "      <th>3</th>\n",
              "      <td>244</td>\n",
              "      <td>51</td>\n",
              "      <td>2</td>\n",
              "      <td>880606923</td>\n",
              "    </tr>\n",
              "    <tr>\n",
              "      <th>4</th>\n",
              "      <td>166</td>\n",
              "      <td>346</td>\n",
              "      <td>1</td>\n",
              "      <td>886397596</td>\n",
              "    </tr>\n",
              "  </tbody>\n",
              "</table>\n",
              "</div>"
            ],
            "text/plain": [
              "   user id  item id  rating  timestamp\n",
              "0      196      242       3  881250949\n",
              "1      186      302       3  891717742\n",
              "2       22      377       1  878887116\n",
              "3      244       51       2  880606923\n",
              "4      166      346       1  886397596"
            ]
          },
          "metadata": {
            "tags": []
          },
          "execution_count": 34
        }
      ]
    },
    {
      "cell_type": "code",
      "metadata": {
        "id": "uN-5tJ3oDTtT",
        "colab_type": "code",
        "colab": {
          "base_uri": "https://localhost:8080/",
          "height": 366
        },
        "outputId": "d1445934-53fe-412d-d476-a1b02ceacc65"
      },
      "source": [
        "movies_columns = ['movie id', 'movie title', 'release date', 'video release date', 'IMDb URL', 'unknown', 'Action', 'Adventure', 'Animation', 'Children', 'Comedy', 'Crime', 'Documentary', 'Drama', 'Fantasy', 'Film-Noir', 'Horror', 'Musical', 'Mystery', 'Romance', 'Sci-Fi', 'Thriller', 'War', 'Western']\n",
        "movies = pd.read_table('u.item', header = None, encoding = 'ISO-8859-1',delimiter='|')\n",
        "movies.columns = movies_columns\n",
        "movies.head()"
      ],
      "execution_count": 45,
      "outputs": [
        {
          "output_type": "execute_result",
          "data": {
            "text/html": [
              "<div>\n",
              "<style scoped>\n",
              "    .dataframe tbody tr th:only-of-type {\n",
              "        vertical-align: middle;\n",
              "    }\n",
              "\n",
              "    .dataframe tbody tr th {\n",
              "        vertical-align: top;\n",
              "    }\n",
              "\n",
              "    .dataframe thead th {\n",
              "        text-align: right;\n",
              "    }\n",
              "</style>\n",
              "<table border=\"1\" class=\"dataframe\">\n",
              "  <thead>\n",
              "    <tr style=\"text-align: right;\">\n",
              "      <th></th>\n",
              "      <th>movie id</th>\n",
              "      <th>movie title</th>\n",
              "      <th>release date</th>\n",
              "      <th>video release date</th>\n",
              "      <th>IMDb URL</th>\n",
              "      <th>unknown</th>\n",
              "      <th>Action</th>\n",
              "      <th>Adventure</th>\n",
              "      <th>Animation</th>\n",
              "      <th>Children</th>\n",
              "      <th>Comedy</th>\n",
              "      <th>Crime</th>\n",
              "      <th>Documentary</th>\n",
              "      <th>Drama</th>\n",
              "      <th>Fantasy</th>\n",
              "      <th>Film-Noir</th>\n",
              "      <th>Horror</th>\n",
              "      <th>Musical</th>\n",
              "      <th>Mystery</th>\n",
              "      <th>Romance</th>\n",
              "      <th>Sci-Fi</th>\n",
              "      <th>Thriller</th>\n",
              "      <th>War</th>\n",
              "      <th>Western</th>\n",
              "    </tr>\n",
              "  </thead>\n",
              "  <tbody>\n",
              "    <tr>\n",
              "      <th>0</th>\n",
              "      <td>1</td>\n",
              "      <td>Toy Story (1995)</td>\n",
              "      <td>01-Jan-1995</td>\n",
              "      <td>NaN</td>\n",
              "      <td>http://us.imdb.com/M/title-exact?Toy%20Story%2...</td>\n",
              "      <td>0</td>\n",
              "      <td>0</td>\n",
              "      <td>0</td>\n",
              "      <td>1</td>\n",
              "      <td>1</td>\n",
              "      <td>1</td>\n",
              "      <td>0</td>\n",
              "      <td>0</td>\n",
              "      <td>0</td>\n",
              "      <td>0</td>\n",
              "      <td>0</td>\n",
              "      <td>0</td>\n",
              "      <td>0</td>\n",
              "      <td>0</td>\n",
              "      <td>0</td>\n",
              "      <td>0</td>\n",
              "      <td>0</td>\n",
              "      <td>0</td>\n",
              "      <td>0</td>\n",
              "    </tr>\n",
              "    <tr>\n",
              "      <th>1</th>\n",
              "      <td>2</td>\n",
              "      <td>GoldenEye (1995)</td>\n",
              "      <td>01-Jan-1995</td>\n",
              "      <td>NaN</td>\n",
              "      <td>http://us.imdb.com/M/title-exact?GoldenEye%20(...</td>\n",
              "      <td>0</td>\n",
              "      <td>1</td>\n",
              "      <td>1</td>\n",
              "      <td>0</td>\n",
              "      <td>0</td>\n",
              "      <td>0</td>\n",
              "      <td>0</td>\n",
              "      <td>0</td>\n",
              "      <td>0</td>\n",
              "      <td>0</td>\n",
              "      <td>0</td>\n",
              "      <td>0</td>\n",
              "      <td>0</td>\n",
              "      <td>0</td>\n",
              "      <td>0</td>\n",
              "      <td>0</td>\n",
              "      <td>1</td>\n",
              "      <td>0</td>\n",
              "      <td>0</td>\n",
              "    </tr>\n",
              "    <tr>\n",
              "      <th>2</th>\n",
              "      <td>3</td>\n",
              "      <td>Four Rooms (1995)</td>\n",
              "      <td>01-Jan-1995</td>\n",
              "      <td>NaN</td>\n",
              "      <td>http://us.imdb.com/M/title-exact?Four%20Rooms%...</td>\n",
              "      <td>0</td>\n",
              "      <td>0</td>\n",
              "      <td>0</td>\n",
              "      <td>0</td>\n",
              "      <td>0</td>\n",
              "      <td>0</td>\n",
              "      <td>0</td>\n",
              "      <td>0</td>\n",
              "      <td>0</td>\n",
              "      <td>0</td>\n",
              "      <td>0</td>\n",
              "      <td>0</td>\n",
              "      <td>0</td>\n",
              "      <td>0</td>\n",
              "      <td>0</td>\n",
              "      <td>0</td>\n",
              "      <td>1</td>\n",
              "      <td>0</td>\n",
              "      <td>0</td>\n",
              "    </tr>\n",
              "    <tr>\n",
              "      <th>3</th>\n",
              "      <td>4</td>\n",
              "      <td>Get Shorty (1995)</td>\n",
              "      <td>01-Jan-1995</td>\n",
              "      <td>NaN</td>\n",
              "      <td>http://us.imdb.com/M/title-exact?Get%20Shorty%...</td>\n",
              "      <td>0</td>\n",
              "      <td>1</td>\n",
              "      <td>0</td>\n",
              "      <td>0</td>\n",
              "      <td>0</td>\n",
              "      <td>1</td>\n",
              "      <td>0</td>\n",
              "      <td>0</td>\n",
              "      <td>1</td>\n",
              "      <td>0</td>\n",
              "      <td>0</td>\n",
              "      <td>0</td>\n",
              "      <td>0</td>\n",
              "      <td>0</td>\n",
              "      <td>0</td>\n",
              "      <td>0</td>\n",
              "      <td>0</td>\n",
              "      <td>0</td>\n",
              "      <td>0</td>\n",
              "    </tr>\n",
              "    <tr>\n",
              "      <th>4</th>\n",
              "      <td>5</td>\n",
              "      <td>Copycat (1995)</td>\n",
              "      <td>01-Jan-1995</td>\n",
              "      <td>NaN</td>\n",
              "      <td>http://us.imdb.com/M/title-exact?Copycat%20(1995)</td>\n",
              "      <td>0</td>\n",
              "      <td>0</td>\n",
              "      <td>0</td>\n",
              "      <td>0</td>\n",
              "      <td>0</td>\n",
              "      <td>0</td>\n",
              "      <td>1</td>\n",
              "      <td>0</td>\n",
              "      <td>1</td>\n",
              "      <td>0</td>\n",
              "      <td>0</td>\n",
              "      <td>0</td>\n",
              "      <td>0</td>\n",
              "      <td>0</td>\n",
              "      <td>0</td>\n",
              "      <td>0</td>\n",
              "      <td>1</td>\n",
              "      <td>0</td>\n",
              "      <td>0</td>\n",
              "    </tr>\n",
              "  </tbody>\n",
              "</table>\n",
              "</div>"
            ],
            "text/plain": [
              "   movie id        movie title release date  ...  Thriller War  Western\n",
              "0         1   Toy Story (1995)  01-Jan-1995  ...         0   0        0\n",
              "1         2   GoldenEye (1995)  01-Jan-1995  ...         1   0        0\n",
              "2         3  Four Rooms (1995)  01-Jan-1995  ...         1   0        0\n",
              "3         4  Get Shorty (1995)  01-Jan-1995  ...         0   0        0\n",
              "4         5     Copycat (1995)  01-Jan-1995  ...         1   0        0\n",
              "\n",
              "[5 rows x 24 columns]"
            ]
          },
          "metadata": {
            "tags": []
          },
          "execution_count": 45
        }
      ]
    },
    {
      "cell_type": "code",
      "metadata": {
        "id": "EChZam20EysH",
        "colab_type": "code",
        "colab": {
          "base_uri": "https://localhost:8080/",
          "height": 195
        },
        "outputId": "a5ed58e4-acea-4452-a814-801fbb2b3032"
      },
      "source": [
        "user_columns = ['user id', 'age', 'gender', 'occupation', 'zip code']\n",
        "user = pd.read_table('u.user',header = None, delimiter = '|')\n",
        "user.columns = user_columns\n",
        "user.head()"
      ],
      "execution_count": 48,
      "outputs": [
        {
          "output_type": "execute_result",
          "data": {
            "text/html": [
              "<div>\n",
              "<style scoped>\n",
              "    .dataframe tbody tr th:only-of-type {\n",
              "        vertical-align: middle;\n",
              "    }\n",
              "\n",
              "    .dataframe tbody tr th {\n",
              "        vertical-align: top;\n",
              "    }\n",
              "\n",
              "    .dataframe thead th {\n",
              "        text-align: right;\n",
              "    }\n",
              "</style>\n",
              "<table border=\"1\" class=\"dataframe\">\n",
              "  <thead>\n",
              "    <tr style=\"text-align: right;\">\n",
              "      <th></th>\n",
              "      <th>user id</th>\n",
              "      <th>age</th>\n",
              "      <th>gender</th>\n",
              "      <th>occupation</th>\n",
              "      <th>zip code</th>\n",
              "    </tr>\n",
              "  </thead>\n",
              "  <tbody>\n",
              "    <tr>\n",
              "      <th>0</th>\n",
              "      <td>1</td>\n",
              "      <td>24</td>\n",
              "      <td>M</td>\n",
              "      <td>technician</td>\n",
              "      <td>85711</td>\n",
              "    </tr>\n",
              "    <tr>\n",
              "      <th>1</th>\n",
              "      <td>2</td>\n",
              "      <td>53</td>\n",
              "      <td>F</td>\n",
              "      <td>other</td>\n",
              "      <td>94043</td>\n",
              "    </tr>\n",
              "    <tr>\n",
              "      <th>2</th>\n",
              "      <td>3</td>\n",
              "      <td>23</td>\n",
              "      <td>M</td>\n",
              "      <td>writer</td>\n",
              "      <td>32067</td>\n",
              "    </tr>\n",
              "    <tr>\n",
              "      <th>3</th>\n",
              "      <td>4</td>\n",
              "      <td>24</td>\n",
              "      <td>M</td>\n",
              "      <td>technician</td>\n",
              "      <td>43537</td>\n",
              "    </tr>\n",
              "    <tr>\n",
              "      <th>4</th>\n",
              "      <td>5</td>\n",
              "      <td>33</td>\n",
              "      <td>F</td>\n",
              "      <td>other</td>\n",
              "      <td>15213</td>\n",
              "    </tr>\n",
              "  </tbody>\n",
              "</table>\n",
              "</div>"
            ],
            "text/plain": [
              "   user id  age gender  occupation zip code\n",
              "0        1   24      M  technician    85711\n",
              "1        2   53      F       other    94043\n",
              "2        3   23      M      writer    32067\n",
              "3        4   24      M  technician    43537\n",
              "4        5   33      F       other    15213"
            ]
          },
          "metadata": {
            "tags": []
          },
          "execution_count": 48
        }
      ]
    },
    {
      "cell_type": "code",
      "metadata": {
        "id": "1fniZXzbJRNN",
        "colab_type": "code",
        "colab": {}
      },
      "source": [
        ""
      ],
      "execution_count": 0,
      "outputs": []
    }
  ]
}